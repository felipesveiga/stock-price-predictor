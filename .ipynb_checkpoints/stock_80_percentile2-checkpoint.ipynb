{
 "cells": [
  {
   "cell_type": "code",
   "execution_count": null,
   "id": "00008b44-b621-490d-a4b2-7f5cd74af9b6",
   "metadata": {},
   "outputs": [],
   "source": [
    "# Dataset muito confuso e mal formulado.\n",
    "# Vamos fazer a análise com apenas uma empresa (ITSA)"
   ]
  },
  {
   "cell_type": "markdown",
   "id": "af86818e-de9c-4153-b14f-873f8c40b098",
   "metadata": {},
   "source": [
    "<h1 style='font-size:40px'> Stock Price Variation Predictor</h1>\n",
    "<div> \n",
    "    <ul style='font-size:20px'> \n",
    "        <li> \n",
    "            The present project aims to create a stock price variation predictor using the  BOVESPA corporations' fundamentals. \n",
    "        </li>\n",
    "        <li> \n",
    "            The model must estimate the given quarter's 80th percentile variation using the financial statements from the previous quarter.\n",
    "        </li>\n",
    "    </ul>\n",
    "</div>"
   ]
  },
  {
   "cell_type": "markdown",
   "id": "db52614a-6599-4974-b196-f18cf90350fe",
   "metadata": {
    "tags": []
   },
   "source": [
    "<h2 style='font-size:30px'> Building the dataset</h2>\n",
    "<div> \n",
    "    <ul style='font-size:20px'> \n",
    "        <li> \n",
    "            Unlike most of the ML projects out there, we'll face the challenge of making the dataset with which our models will carry out their predictions.\n",
    "        </li>\n",
    "        <li> \n",
    "            We are going to use wget in order to download the files and extract the financial statements. The final dataset will store data from 2015 to 2021. \n",
    "        </li>\n",
    "    </ul>\n",
    "</div>"
   ]
  },
  {
   "cell_type": "code",
   "execution_count": 1,
   "id": "260f586a-f32c-4dec-833f-ddd70696f0a2",
   "metadata": {},
   "outputs": [],
   "source": [
    "import wget\n",
    "import pandas as pd\n",
    "from datetime import date\n",
    "from zipfile import ZipFile\n",
    "from pathlib import Path\n",
    "import os\n",
    "import numpy as np"
   ]
  },
  {
   "cell_type": "code",
   "execution_count": 9,
   "id": "4968e338-9eaa-4c2a-82d4-68af5590b4e3",
   "metadata": {},
   "outputs": [
    {
     "name": "stdout",
     "output_type": "stream",
     "text": [
      "100% [....................................................] 29984400 / 29984400"
     ]
    }
   ],
   "source": [
    "import wget\n",
    "import pandas as pd\n",
    "from datetime import date\n",
    "from zipfile import ZipFile\n",
    "from pathlib import Path\n",
    "import os\n",
    "\n",
    "# The data source to the financial statements is going to be the below URL.\n",
    "data_source = 'http://dados.cvm.gov.br/dados/CIA_ABERTA/DOC/ITR/DADOS/'\n",
    "\n",
    "# Listing the documents from 2015 to last year.\n",
    "# It is worth considering that the actual statements are stored in zip files. So we'll need to use some method to extract them.\n",
    "current_year = date.today().year\n",
    "zip_files = [f'itr_cia_aberta_{year}.zip' for year in range(2015, current_year)]\n",
    "\n",
    "# Downloading the files and extracting their contents.\n",
    "for file in zip_files:\n",
    "    wget.download(data_source + file)\n",
    "    with ZipFile(file, 'r') as zip_file:\n",
    "        zip_file.extractall('Statements')\n",
    "    # After the extraction is completed, we are able to delete the zip file.\n",
    "    os.remove(file)\n",
    "\n",
    "# The zip files contained two kinds of reports, the ones with '_con_' and others with '_ind_' in their names.\n",
    "# Since we are going to use only the first sort of document, we'll remove the '_ind_' ones.\n",
    "\n",
    "# Also, there were two kinds of DMPL statements, the '_MD_' and the '_MI_'. I've chosen to keep with the second type.\n",
    "for file in Path('Statements').iterdir():\n",
    "    if '_ind_' in file.name or '_MI_' in file.name:\n",
    "        os.remove(file)"
   ]
  },
  {
   "cell_type": "code",
   "execution_count": 47,
   "id": "4d87ac4c-3852-473e-8dbe-afddebff2b6c",
   "metadata": {},
   "outputs": [],
   "source": [
    "with open('.gitignore', 'w') as git:\n",
    "    for file in os.listdir('Statements'):\n",
    "        git.write(f'Statements/{file}\\n')\n",
    "            \n",
    "git.close()"
   ]
  },
  {
   "cell_type": "code",
   "execution_count": 61,
   "id": "0d1b6d30-b0ea-4acb-ac3a-00d09799b17f",
   "metadata": {},
   "outputs": [],
   "source": [
    "x = pd.read_csv('Statements/itr_cia_aberta_BPA_con_2020.csv', sep=';', encoding='latin1')"
   ]
  },
  {
   "cell_type": "code",
   "execution_count": 66,
   "id": "a927fd82-1c39-4c28-a009-62f2f59e94ab",
   "metadata": {},
   "outputs": [
    {
     "data": {
      "text/plain": [
       "array(['2019-12-31'], dtype=object)"
      ]
     },
     "execution_count": 66,
     "metadata": {},
     "output_type": "execute_result"
    }
   ],
   "source": [
    "x[(x.CNPJ_CIA=='33.000.167/0001-01') & (x.ORDEM_EXERC=='PENÚLTIMO')].DT_FIM_EXERC.unique()"
   ]
  },
  {
   "cell_type": "code",
   "execution_count": 67,
   "id": "9c101eb4-1a3d-4b10-8812-efdc0358fb54",
   "metadata": {},
   "outputs": [
    {
     "data": {
      "text/html": [
       "<div>\n",
       "<style scoped>\n",
       "    .dataframe tbody tr th:only-of-type {\n",
       "        vertical-align: middle;\n",
       "    }\n",
       "\n",
       "    .dataframe tbody tr th {\n",
       "        vertical-align: top;\n",
       "    }\n",
       "\n",
       "    .dataframe thead th {\n",
       "        text-align: right;\n",
       "    }\n",
       "</style>\n",
       "<table border=\"1\" class=\"dataframe\">\n",
       "  <thead>\n",
       "    <tr style=\"text-align: right;\">\n",
       "      <th></th>\n",
       "      <th>Código(s)</th>\n",
       "      <th>CNPJ</th>\n",
       "    </tr>\n",
       "  </thead>\n",
       "  <tbody>\n",
       "    <tr>\n",
       "      <th>129</th>\n",
       "      <td>ITSA3ITSA4</td>\n",
       "      <td>61.532.644/0001-15</td>\n",
       "    </tr>\n",
       "  </tbody>\n",
       "</table>\n",
       "</div>"
      ],
      "text/plain": [
       "      Código(s)                CNPJ\n",
       "129  ITSA3ITSA4  61.532.644/0001-15"
      ]
     },
     "execution_count": 67,
     "metadata": {},
     "output_type": "execute_result"
    }
   ],
   "source": [
    "cnpj = pd.read_csv('CNPJ-Ticker.csv', usecols=[1,2])\n",
    "cnpj[cnpj['Código(s)'].str.contains('ITSA')]"
   ]
  }
 ],
 "metadata": {
  "kernelspec": {
   "display_name": "Python 3 (ipykernel)",
   "language": "python",
   "name": "python3"
  },
  "language_info": {
   "codemirror_mode": {
    "name": "ipython",
    "version": 3
   },
   "file_extension": ".py",
   "mimetype": "text/x-python",
   "name": "python",
   "nbconvert_exporter": "python",
   "pygments_lexer": "ipython3",
   "version": "3.8.10"
  }
 },
 "nbformat": 4,
 "nbformat_minor": 5
}
